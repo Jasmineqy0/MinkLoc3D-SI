{
 "cells": [
  {
   "cell_type": "code",
   "execution_count": 86,
   "metadata": {},
   "outputs": [],
   "source": [
    "import open3d as o3d\n",
    "import numpy as np\n",
    "from numba import njit\n",
    "import MinkowskiEngine as ME\n",
    "import torch\n",
    "import pandas as pd\n",
    "from glob import glob\n",
    "import os"
   ]
  },
  {
   "cell_type": "code",
   "execution_count": 131,
   "metadata": {},
   "outputs": [],
   "source": [
    "@njit\n",
    "def to_spherical(points, dataset_name):\n",
    "    spherical_points = []\n",
    "    for point in points:\n",
    "        if (np.abs(point[:3]) < 1e-4).all():\n",
    "            continue\n",
    "\n",
    "        r = np.linalg.norm(point[:3])\n",
    "\n",
    "        # Theta is calculated as an angle measured from the y-axis towards the x-axis\n",
    "        # Shifted to range (0, 360)\n",
    "        theta = np.arctan2(point[1], point[0]) * 180 / np.pi\n",
    "        if theta < 0:\n",
    "            theta += 360\n",
    "\n",
    "        if dataset_name == \"USyd\":\n",
    "            # VLP-16 has 2 deg VRes and (+15, -15 VFoV).\n",
    "            # Phi calculated from the vertical axis, so (75, 105)\n",
    "            # Shifted to (0, 30)\n",
    "            phi = (np.arccos(point[2] / r) * 180 / np.pi) - 75\n",
    "\n",
    "        elif dataset_name in ['IntensityOxford', 'Oxford']:\n",
    "            # Oxford scans are built from a 2D scanner.\n",
    "            # Phi calculated from the vertical axis, so (0, 180)\n",
    "            phi = np.arccos(point[2] / r) * 180 / np.pi\n",
    "\n",
    "        elif dataset_name in ['KITTI', 'TUM']:\n",
    "            # HDL-64 has 0.4 deg VRes and (+2, -24.8 VFoV).\n",
    "            # Phi calculated from the vertical axis, so (88, 114.8)\n",
    "            # Shifted to (0, 26.8)\n",
    "            phi = (np.arccos(point[2] / r) * 180 / np.pi) - 88\n",
    "\n",
    "        if point.shape[-1] == 4:\n",
    "            spherical_points.append([r, theta, phi, point[3]])\n",
    "        else:\n",
    "            spherical_points.append([r, theta, phi])\n",
    "\n",
    "    return spherical_points\n",
    "\n",
    "def load_pc(dataset_folder, output_folder, filename, dataset_name, mink_quantization_size):\n",
    "    file_path = os.path.join(dataset_folder, filename)\n",
    "\n",
    "    pc_pnts = np.fromfile(file_path, dtype=np.float64).reshape([-1, 3])\n",
    "    pc_s_pnts = np.asarray(to_spherical(pc_pnts, dataset_name))\n",
    "    coords, inds = ME.utils.sparse_quantize(coordinates=torch.tensor(pc_s_pnts, dtype=torch.float),\n",
    "                                            quantization_size=mink_quantization_size,\n",
    "                                            return_index=True,\n",
    "                                            return_inverse=False)\n",
    "    pc_vox_pnts = pc_pnts[list(inds)]\n",
    "    pc_diff_pnts = pc_pnts[list(set(range(4096)) - set(inds.tolist()))]\n",
    "    print(pc_pnts.shape, pc_vox_pnts.shape, pc_diff_pnts.shape)\n",
    "\n",
    "    pc, pc_s, pc_vox, pc_diff = o3d.geometry.PointCloud(), o3d.geometry.PointCloud(), o3d.geometry.PointCloud(), o3d.geometry.PointCloud()\n",
    "    pc.points = o3d.utility.Vector3dVector(pc_pnts)   # Original point cloud\n",
    "    pc_s.points = o3d.utility.Vector3dVector(pc_s_pnts) # Spherical point cloud\n",
    "    pc_vox.points = o3d.utility.Vector3dVector(pc_vox_pnts) # Voxelized point cloud\n",
    "    pc_diff.points = o3d.utility.Vector3dVector(pc_diff_pnts) # Differenced point cloud\n",
    "\n",
    "    filestem = filename.split('.')[0]\n",
    "    o3d.io.write_point_cloud(os.path.join(output_folder, f'{filestem}.pcd'), pc, write_ascii=True)\n",
    "    o3d.io.write_point_cloud(os.path.join(output_folder, f'{filestem}_s.pcd'), pc_s, write_ascii=True)\n",
    "    o3d.io.write_point_cloud(os.path.join(output_folder, f'{filestem}_vox.pcd'), pc_vox, write_ascii=True)\n",
    "    o3d.io.write_point_cloud(os.path.join(output_folder, f'{filestem}_diff.pcd'), pc_diff, write_ascii=True)"
   ]
  },
  {
   "cell_type": "code",
   "execution_count": 132,
   "metadata": {},
   "outputs": [],
   "source": [
    "dataset_folder = '/home/xiayan/testdir/datasets/frame_5m'\n",
    "output_folder = '/home/xiayan/testdir/datasets/tum_viz'\n",
    "filename = '2016-00011.bin'\n",
    "file_path = os.path.join(dataset_folder, filename)\n",
    "\n",
    "mink_quantization_size = [2.5,2.0,1.875]"
   ]
  },
  {
   "cell_type": "code",
   "execution_count": 134,
   "metadata": {},
   "outputs": [
    {
     "name": "stdout",
     "output_type": "stream",
     "text": [
      "(4096, 3) (1719, 3) (2377, 3)\n",
      "(4096, 3) (1782, 3) (2314, 3)\n",
      "(4096, 3) (1781, 3) (2315, 3)\n",
      "(4096, 3) (1332, 3) (2764, 3)\n",
      "(4096, 3) (1411, 3) (2685, 3)\n",
      "(4096, 3) (1784, 3) (2312, 3)\n",
      "(4096, 3) (1492, 3) (2604, 3)\n",
      "(4096, 3) (1340, 3) (2756, 3)\n",
      "(4096, 3) (1843, 3) (2253, 3)\n",
      "(4096, 3) (1647, 3) (2449, 3)\n",
      "(4096, 3) (1693, 3) (2403, 3)\n",
      "(4096, 3) (1534, 3) (2562, 3)\n",
      "(4096, 3) (1407, 3) (2689, 3)\n",
      "(4096, 3) (1297, 3) (2799, 3)\n",
      "(4096, 3) (1954, 3) (2142, 3)\n",
      "(4096, 3) (1297, 3) (2799, 3)\n",
      "(4096, 3) (2023, 3) (2073, 3)\n",
      "(4096, 3) (1466, 3) (2630, 3)\n",
      "(4096, 3) (1586, 3) (2510, 3)\n",
      "(4096, 3) (1951, 3) (2145, 3)\n",
      "(4096, 3) (1765, 3) (2331, 3)\n",
      "(4096, 3) (1852, 3) (2244, 3)\n",
      "(4096, 3) (1597, 3) (2499, 3)\n",
      "(4096, 3) (1753, 3) (2343, 3)\n",
      "(4096, 3) (1510, 3) (2586, 3)\n",
      "(4096, 3) (1395, 3) (2701, 3)\n",
      "(4096, 3) (1905, 3) (2191, 3)\n",
      "(4096, 3) (1564, 3) (2532, 3)\n",
      "(4096, 3) (2263, 3) (1833, 3)\n",
      "(4096, 3) (1815, 3) (2281, 3)\n"
     ]
    }
   ],
   "source": [
    "filenames = glob('/home/xiayan/testdir/datasets/frame_5m/*.bin')\n",
    "\n",
    "for filename in filenames[:30]:\n",
    "    load_pc(dataset_folder=dataset_folder,\n",
    "            output_folder=output_folder,\n",
    "            filename=filename.split('/')[-1],\n",
    "            dataset_name='TUM',\n",
    "            mink_quantization_size=mink_quantization_size)"
   ]
  },
  {
   "cell_type": "code",
   "execution_count": 81,
   "metadata": {},
   "outputs": [
    {
     "data": {
      "text/plain": [
       "array([[-0.05950609, -0.23934637, -0.04017662],\n",
       "       [ 0.05591073,  0.01711923,  0.051661  ],\n",
       "       [-0.11016081, -0.08922945, -0.04351812],\n",
       "       ...,\n",
       "       [-0.12106692, -0.11145936, -0.03723965],\n",
       "       [ 0.04860582, -0.00350828,  0.02706704],\n",
       "       [-0.02477835, -0.17228568, -0.0329213 ]])"
      ]
     },
     "execution_count": 81,
     "metadata": {},
     "output_type": "execute_result"
    }
   ],
   "source": [
    "pc_pnts"
   ]
  },
  {
   "cell_type": "code",
   "execution_count": 82,
   "metadata": {},
   "outputs": [
    {
     "data": {
      "text/plain": [
       "array([[-0.05950609, -0.23934637, -0.04017662],\n",
       "       [ 0.05591073,  0.01711923,  0.051661  ],\n",
       "       [-0.11016081, -0.08922945, -0.04351812],\n",
       "       ...,\n",
       "       [ 0.01023923, -0.08604984, -0.00269689],\n",
       "       [ 0.01180906, -0.08887551, -0.00244572],\n",
       "       [-0.06026954, -0.24093684, -0.03165236]])"
      ]
     },
     "execution_count": 82,
     "metadata": {},
     "output_type": "execute_result"
    }
   ],
   "source": [
    "pc_vox_pnts"
   ]
  },
  {
   "cell_type": "code",
   "execution_count": 83,
   "metadata": {},
   "outputs": [
    {
     "ename": "UnboundLocalError",
     "evalue": "local variable 'child' referenced before assignment",
     "output_type": "error",
     "traceback": [
      "\u001b[0;31m---------------------------------------------------------------------------\u001b[0m",
      "\u001b[0;31mKeyboardInterrupt\u001b[0m                         Traceback (most recent call last)",
      "File \u001b[0;32m~/miniconda3/envs/mink/lib/python3.8/site-packages/IPython/utils/_process_posix.py:148\u001b[0m, in \u001b[0;36mProcessHandler.system\u001b[0;34m(self, cmd)\u001b[0m\n\u001b[1;32m    147\u001b[0m \u001b[39melse\u001b[39;00m:\n\u001b[0;32m--> 148\u001b[0m     child \u001b[39m=\u001b[39m pexpect\u001b[39m.\u001b[39;49mspawn(\u001b[39mself\u001b[39;49m\u001b[39m.\u001b[39;49msh, args\u001b[39m=\u001b[39;49m[\u001b[39m'\u001b[39;49m\u001b[39m-c\u001b[39;49m\u001b[39m'\u001b[39;49m, cmd])  \u001b[39m# Vanilla Pexpect\u001b[39;00m\n\u001b[1;32m    149\u001b[0m flush \u001b[39m=\u001b[39m sys\u001b[39m.\u001b[39mstdout\u001b[39m.\u001b[39mflush\n",
      "File \u001b[0;32m~/miniconda3/envs/mink/lib/python3.8/site-packages/pexpect/pty_spawn.py:205\u001b[0m, in \u001b[0;36mspawn.__init__\u001b[0;34m(self, command, args, timeout, maxread, searchwindowsize, logfile, cwd, env, ignore_sighup, echo, preexec_fn, encoding, codec_errors, dimensions, use_poll)\u001b[0m\n\u001b[1;32m    204\u001b[0m \u001b[39melse\u001b[39;00m:\n\u001b[0;32m--> 205\u001b[0m     \u001b[39mself\u001b[39;49m\u001b[39m.\u001b[39;49m_spawn(command, args, preexec_fn, dimensions)\n\u001b[1;32m    206\u001b[0m \u001b[39mself\u001b[39m\u001b[39m.\u001b[39muse_poll \u001b[39m=\u001b[39m use_poll\n",
      "File \u001b[0;32m~/miniconda3/envs/mink/lib/python3.8/site-packages/pexpect/pty_spawn.py:303\u001b[0m, in \u001b[0;36mspawn._spawn\u001b[0;34m(self, command, args, preexec_fn, dimensions)\u001b[0m\n\u001b[1;32m    300\u001b[0m     \u001b[39mself\u001b[39m\u001b[39m.\u001b[39margs \u001b[39m=\u001b[39m [a \u001b[39mif\u001b[39;00m \u001b[39misinstance\u001b[39m(a, \u001b[39mbytes\u001b[39m) \u001b[39melse\u001b[39;00m a\u001b[39m.\u001b[39mencode(\u001b[39mself\u001b[39m\u001b[39m.\u001b[39mencoding)\n\u001b[1;32m    301\u001b[0m                  \u001b[39mfor\u001b[39;00m a \u001b[39min\u001b[39;00m \u001b[39mself\u001b[39m\u001b[39m.\u001b[39margs]\n\u001b[0;32m--> 303\u001b[0m \u001b[39mself\u001b[39m\u001b[39m.\u001b[39mptyproc \u001b[39m=\u001b[39m \u001b[39mself\u001b[39;49m\u001b[39m.\u001b[39;49m_spawnpty(\u001b[39mself\u001b[39;49m\u001b[39m.\u001b[39;49margs, env\u001b[39m=\u001b[39;49m\u001b[39mself\u001b[39;49m\u001b[39m.\u001b[39;49menv,\n\u001b[1;32m    304\u001b[0m                              cwd\u001b[39m=\u001b[39;49m\u001b[39mself\u001b[39;49m\u001b[39m.\u001b[39;49mcwd, \u001b[39m*\u001b[39;49m\u001b[39m*\u001b[39;49mkwargs)\n\u001b[1;32m    306\u001b[0m \u001b[39mself\u001b[39m\u001b[39m.\u001b[39mpid \u001b[39m=\u001b[39m \u001b[39mself\u001b[39m\u001b[39m.\u001b[39mptyproc\u001b[39m.\u001b[39mpid\n",
      "File \u001b[0;32m~/miniconda3/envs/mink/lib/python3.8/site-packages/pexpect/pty_spawn.py:315\u001b[0m, in \u001b[0;36mspawn._spawnpty\u001b[0;34m(self, args, **kwargs)\u001b[0m\n\u001b[1;32m    314\u001b[0m \u001b[39m'''Spawn a pty and return an instance of PtyProcess.'''\u001b[39;00m\n\u001b[0;32m--> 315\u001b[0m \u001b[39mreturn\u001b[39;00m ptyprocess\u001b[39m.\u001b[39;49mPtyProcess\u001b[39m.\u001b[39;49mspawn(args, \u001b[39m*\u001b[39;49m\u001b[39m*\u001b[39;49mkwargs)\n",
      "File \u001b[0;32m~/miniconda3/envs/mink/lib/python3.8/site-packages/ptyprocess/ptyprocess.py:315\u001b[0m, in \u001b[0;36mPtyProcess.spawn\u001b[0;34m(cls, argv, cwd, env, echo, preexec_fn, dimensions, pass_fds)\u001b[0m\n\u001b[1;32m    314\u001b[0m os\u001b[39m.\u001b[39mclose(exec_err_pipe_write)\n\u001b[0;32m--> 315\u001b[0m exec_err_data \u001b[39m=\u001b[39m os\u001b[39m.\u001b[39;49mread(exec_err_pipe_read, \u001b[39m4096\u001b[39;49m)\n\u001b[1;32m    316\u001b[0m os\u001b[39m.\u001b[39mclose(exec_err_pipe_read)\n",
      "\u001b[0;31mKeyboardInterrupt\u001b[0m: ",
      "\nDuring handling of the above exception, another exception occurred:\n",
      "\u001b[0;31mUnboundLocalError\u001b[0m                         Traceback (most recent call last)",
      "\u001b[1;32m/home/xiayan/testdir/notebooks/visualization.ipynb Cell 7\u001b[0m in \u001b[0;36m<cell line: 1>\u001b[0;34m()\u001b[0m\n\u001b[0;32m----> <a href='vscode-notebook-cell://ssh-remote%2Bhiwi-minkloc/home/xiayan/testdir/notebooks/visualization.ipynb#ch0000006vscode-remote?line=0'>1</a>\u001b[0m get_ipython()\u001b[39m.\u001b[39;49msystem(\u001b[39m'\u001b[39;49m\u001b[39m scp -r /home/xiayan/testdir/datasets/tum_viz QianyunLi@10.181.78.184:~/Desktop\u001b[39;49m\u001b[39m'\u001b[39;49m)\n",
      "File \u001b[0;32m~/miniconda3/envs/mink/lib/python3.8/site-packages/ipykernel/zmqshell.py:633\u001b[0m, in \u001b[0;36mZMQInteractiveShell.system_piped\u001b[0;34m(self, cmd)\u001b[0m\n\u001b[1;32m    631\u001b[0m         \u001b[39mself\u001b[39m\u001b[39m.\u001b[39muser_ns[\u001b[39m\"\u001b[39m\u001b[39m_exit_code\u001b[39m\u001b[39m\"\u001b[39m] \u001b[39m=\u001b[39m system(cmd)\n\u001b[1;32m    632\u001b[0m \u001b[39melse\u001b[39;00m:\n\u001b[0;32m--> 633\u001b[0m     \u001b[39mself\u001b[39m\u001b[39m.\u001b[39muser_ns[\u001b[39m\"\u001b[39m\u001b[39m_exit_code\u001b[39m\u001b[39m\"\u001b[39m] \u001b[39m=\u001b[39m system(\u001b[39mself\u001b[39;49m\u001b[39m.\u001b[39;49mvar_expand(cmd, depth\u001b[39m=\u001b[39;49m\u001b[39m1\u001b[39;49m))\n",
      "File \u001b[0;32m~/miniconda3/envs/mink/lib/python3.8/site-packages/IPython/utils/_process_posix.py:164\u001b[0m, in \u001b[0;36mProcessHandler.system\u001b[0;34m(self, cmd)\u001b[0m\n\u001b[1;32m    159\u001b[0m         out_size \u001b[39m=\u001b[39m \u001b[39mlen\u001b[39m(child\u001b[39m.\u001b[39mbefore)\n\u001b[1;32m    160\u001b[0m \u001b[39mexcept\u001b[39;00m \u001b[39mKeyboardInterrupt\u001b[39;00m:\n\u001b[1;32m    161\u001b[0m     \u001b[39m# We need to send ^C to the process.  The ascii code for '^C' is 3\u001b[39;00m\n\u001b[1;32m    162\u001b[0m     \u001b[39m# (the character is known as ETX for 'End of Text', see\u001b[39;00m\n\u001b[1;32m    163\u001b[0m     \u001b[39m# curses.ascii.ETX).\u001b[39;00m\n\u001b[0;32m--> 164\u001b[0m     child\u001b[39m.\u001b[39msendline(\u001b[39mchr\u001b[39m(\u001b[39m3\u001b[39m))\n\u001b[1;32m    165\u001b[0m     \u001b[39m# Read and print any more output the program might produce on its\u001b[39;00m\n\u001b[1;32m    166\u001b[0m     \u001b[39m# way out.\u001b[39;00m\n\u001b[1;32m    167\u001b[0m     \u001b[39mtry\u001b[39;00m:\n",
      "\u001b[0;31mUnboundLocalError\u001b[0m: local variable 'child' referenced before assignment"
     ]
    }
   ],
   "source": [
    "# ! scp -r /home/xiayan/testdir/datasets/tum_viz username@host:path"
   ]
  },
  {
   "cell_type": "code",
   "execution_count": null,
   "metadata": {},
   "outputs": [],
   "source": []
  }
 ],
 "metadata": {
  "kernelspec": {
   "display_name": "Python 3.8.13 ('mink')",
   "language": "python",
   "name": "python3"
  },
  "language_info": {
   "codemirror_mode": {
    "name": "ipython",
    "version": 3
   },
   "file_extension": ".py",
   "mimetype": "text/x-python",
   "name": "python",
   "nbconvert_exporter": "python",
   "pygments_lexer": "ipython3",
   "version": "3.8.13"
  },
  "orig_nbformat": 4,
  "vscode": {
   "interpreter": {
    "hash": "a6986b7b18222a2a0e17146b18f65fe58afb9867d36210d49f16dcd185c40f9e"
   }
  }
 },
 "nbformat": 4,
 "nbformat_minor": 2
}
