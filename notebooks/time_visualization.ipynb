{
 "cells": [
  {
   "cell_type": "code",
   "execution_count": 1,
   "metadata": {},
   "outputs": [],
   "source": [
    "import csv\n",
    "import json\n",
    "import os\n",
    "import numpy as np\n",
    "from glob import glob"
   ]
  },
  {
   "cell_type": "code",
   "execution_count": 2,
   "metadata": {},
   "outputs": [],
   "source": [
    "def get_finished_time_perf(weights_dir):\n",
    "    \"\"\"\n",
    "    Get the list of time perf csv, return a list.\n",
    "    \"\"\"\n",
    "    if not os.path.exists(weights_dir):\n",
    "        raise ValueError('The directory {} does not exist.'.format(weights_dir))\n",
    "\n",
    "    perf_files = []\n",
    "    for dir in os.listdir(weights_dir):\n",
    "        for file in glob(os.path.join(weights_dir, dir, '*.csv')):\n",
    "            perf_files.append(file)\n",
    "    return perf_files\n",
    "\n",
    "def get_avg_perf_dict(file):\n",
    "    with open(file, 'r') as f:\n",
    "        reader = csv.reader(f)\n",
    "        headers = next(reader, None)\n",
    "\n",
    "        perfs = []\n",
    "        for row in reader:\n",
    "            row = [float(item) for item in row]\n",
    "            perfs.append(row)\n",
    "    perfs = np.asarray(perfs, dtype=float)\n",
    "    perfs = np.mean(perfs, axis=1)\n",
    "\n",
    "    perf_dict = dict(zip(headers, perfs))\n",
    "    return perf_dict"
   ]
  },
  {
   "cell_type": "code",
   "execution_count": 3,
   "metadata": {},
   "outputs": [
    {
     "name": "stdout",
     "output_type": "stream",
     "text": [
      "['/home/xiayan/testdir/MinkLoc3D-SI/weights/model_MinkFPNGeM_20220812_101152/epoch40_time.csv', '/home/xiayan/testdir/MinkLoc3D-SI/weights/model_MinkFPNGeM_20220818_141758/epoch40_time.csv']\n"
     ]
    }
   ],
   "source": [
    "weights_dir = '/home/xiayan/testdir/MinkLoc3D-SI/weights'\n",
    "perf_files = get_finished_time_perf(weights_dir)\n",
    "\n",
    "print(perf_files)"
   ]
  },
  {
   "cell_type": "code",
   "execution_count": 4,
   "metadata": {},
   "outputs": [],
   "source": [
    "data_config = '../config/config_usyd.txt'\n",
    "model_config = '../config/model_config_self_cross_3.txt'\n",
    "weights = '/home/xiayan/testdir/MinkLoc3D-SI/weights/model_MinkFPNGeM_20220818_141758/epoch40.pth'\n",
    "\n",
    "# %cd /home/xiayan/testdir/MinkLoc3D-SI/eval\n",
    "# !python evaluate.py \\\n",
    "#         --config=$data_config \\\n",
    "#         --model_config=$model_config \\\n",
    "#         --weights=weights    "
   ]
  },
  {
   "cell_type": "code",
   "execution_count": 5,
   "metadata": {},
   "outputs": [
    {
     "name": "stdout",
     "output_type": "stream",
     "text": [
      "/home/xiayan/testdir/MinkLoc3D-SI/weights/model_MinkFPNGeM_20220818_141758/epoch40_time.csv\n"
     ]
    }
   ],
   "source": [
    "epoch = weights.split('/')[-1].split('.')[0] + '_time.csv'\n",
    "perf_dir = ('/').join(weights.split('/')[:-1])\n",
    "file = os.path.join(perf_dir, epoch)\n",
    "print(file)"
   ]
  },
  {
   "cell_type": "code",
   "execution_count": 6,
   "metadata": {},
   "outputs": [
    {
     "name": "stdout",
     "output_type": "stream",
     "text": [
      "{'Total': 280.59033000000005, 'Pointnet': 15.507048000000001, 'Self-Attention': 15.142705999999999, 'Cross-Attention-Linear': 72.02611, 'Cross-Attention-Dot': 56.66816}\n"
     ]
    }
   ],
   "source": [
    "perf_dict = get_avg_perf_dict(file)\n",
    "print(perf_dict)"
   ]
  },
  {
   "cell_type": "code",
   "execution_count": null,
   "metadata": {},
   "outputs": [],
   "source": []
  }
 ],
 "metadata": {
  "kernelspec": {
   "display_name": "Python 3.8.13 ('mink')",
   "language": "python",
   "name": "python3"
  },
  "language_info": {
   "codemirror_mode": {
    "name": "ipython",
    "version": 3
   },
   "file_extension": ".py",
   "mimetype": "text/x-python",
   "name": "python",
   "nbconvert_exporter": "python",
   "pygments_lexer": "ipython3",
   "version": "3.8.13"
  },
  "orig_nbformat": 4,
  "vscode": {
   "interpreter": {
    "hash": "a6986b7b18222a2a0e17146b18f65fe58afb9867d36210d49f16dcd185c40f9e"
   }
  }
 },
 "nbformat": 4,
 "nbformat_minor": 2
}
